{
 "cells": [
  {
   "cell_type": "code",
   "execution_count": 1,
   "id": "96cd6d19-5bcb-428b-8451-b024acca3692",
   "metadata": {},
   "outputs": [
    {
     "name": "stdout",
     "output_type": "stream",
     "text": [
      "Requirement already satisfied: dataclasses in /Users/michellefesi/opt/anaconda3/envs/dev/lib/python3.7/site-packages (0.6)\n"
     ]
    }
   ],
   "source": [
    "!pip install dataclasses"
   ]
  },
  {
   "cell_type": "code",
   "execution_count": 2,
   "id": "5548e2c5-f6c3-4166-9442-de387406dbc9",
   "metadata": {},
   "outputs": [],
   "source": [
    "import streamlit as st\n",
    "from dataclasses import dataclass\n",
    "from typing import Any, List\n",
    "import datetime as datetime\n",
    "import pandas as pd\n",
    "import hashlib"
   ]
  },
  {
   "cell_type": "code",
   "execution_count": 3,
   "id": "70646cb6-aa7d-452d-b692-c6523394f1a8",
   "metadata": {},
   "outputs": [],
   "source": [
    "from dataclasses import dataclass\n",
    "from datetime import datetime\n",
    "from typing import Any"
   ]
  },
  {
   "cell_type": "code",
   "execution_count": 4,
   "id": "aeb00735-d3ea-4524-b9b3-283c21e2f4e6",
   "metadata": {},
   "outputs": [],
   "source": [
    "@dataclass\n",
    "class Record:\n",
    "    record: str\n",
    "    creator_id: int\n",
    "    sender: str\n",
    "    receiver: str\n",
    "    amount: float"
   ]
  },
  {
   "cell_type": "code",
   "execution_count": 5,
   "id": "7ee272c1-48f8-4034-acee-678b373a8183",
   "metadata": {},
   "outputs": [],
   "source": [
    "@dataclass\n",
    "class Block:\n",
    "    record: Record\n",
    "    creator_id: int\n",
    "    prev_hash: str = \"0\"\n",
    "    timestamp: str = datetime.utcnow().strftime(\"%H:%M:%S\")\n",
    "    nonce: int = 0\n",
    "    def hash_block(self):\n",
    "        sha = hashlib.sha256()\n",
    "\n",
    "        record = str(self.record).encode()\n",
    "        sha.update(record)\n",
    "\n",
    "        creator_id = str(self.creator_id).encode()\n",
    "        sha.update(creator_id)\n",
    "\n",
    "        timestamp = str(self.timestamp).encode()\n",
    "        sha.update(timestamp)\n",
    "\n",
    "        prev_hash = str(self.prev_hash).encode()\n",
    "        sha.update(prev_hash)\n",
    "\n",
    "        nonce = str(self.nonce).encode()\n",
    "        sha.update(nonce)\n",
    "\n",
    "        return sha.hexdigest()\n",
    "    "
   ]
  },
  {
   "cell_type": "code",
   "execution_count": 6,
   "id": "d80a885e-4d1c-4671-8ab3-83ac2ae43dc1",
   "metadata": {},
   "outputs": [],
   "source": [
    "@dataclass\n",
    "class PyChain:\n",
    "    chain: List[Block]\n",
    "    difficulty: int = 4\n",
    "\n",
    "    def proof_of_work(self, block):\n",
    "\n",
    "        calculated_hash = block.hash_block()\n",
    "\n",
    "        num_of_zeros = \"0\" * self.difficulty\n",
    "\n",
    "        while not calculated_hash.startswith(num_of_zeros):\n",
    "\n",
    "            block.nonce += 1\n",
    "\n",
    "            calculated_hash = block.hash_block()\n",
    "\n",
    "        print(\"Wining Hash\", calculated_hash)\n",
    "        return block\n",
    "\n",
    "    def add_block(self, candidate_block):\n",
    "        block = self.proof_of_work(candidate_block)\n",
    "        self.chain += [block]\n",
    "\n",
    "    def is_valid(self):\n",
    "        block_hash = self.chain[0].hash_block()\n",
    "\n",
    "        for block in self.chain[1:]:\n",
    "            if block_hash != block.prev_hash:\n",
    "                print(\"Blockchain is invalid!\")\n",
    "                return False\n",
    "\n",
    "            block_hash = block.hash_block()\n",
    "\n",
    "        print(\"Blockchain is Valid\")\n",
    "        return True"
   ]
  },
  {
   "cell_type": "code",
   "execution_count": 9,
   "id": "54ce14a3-dcb2-4881-ab8b-1e16c8404cb2",
   "metadata": {
    "tags": []
   },
   "outputs": [
    {
     "name": "stdout",
     "output_type": "stream",
     "text": [
      "Initializing Chain\n"
     ]
    }
   ],
   "source": [
    "#@st.cache(allow_output_mutation=True)\n",
    "def setup():\n",
    "    print(\"Initializing Chain\")\n",
    "    return PyChain([Block(\"Genesis\", 0)])\n",
    "\n",
    "\n",
    "#st.markdown(\"# PyChain\")\n",
    "#st.markdown(\"## Store a Transaction Record in the PyChain\")\n",
    "\n",
    "pychain = setup()"
   ]
  },
  {
   "cell_type": "code",
   "execution_count": null,
   "id": "3b4d2405-4c5f-4455-b8e2-49496b518a7b",
   "metadata": {},
   "outputs": [],
   "source": []
  },
  {
   "cell_type": "code",
   "execution_count": null,
   "id": "39eb5064-01c3-40a5-bb7e-05cd44d53d68",
   "metadata": {},
   "outputs": [],
   "source": []
  }
 ],
 "metadata": {
  "kernelspec": {
   "display_name": "Python 3",
   "language": "python",
   "name": "python3"
  },
  "language_info": {
   "codemirror_mode": {
    "name": "ipython",
    "version": 3
   },
   "file_extension": ".py",
   "mimetype": "text/x-python",
   "name": "python",
   "nbconvert_exporter": "python",
   "pygments_lexer": "ipython3",
   "version": "3.7.10"
  }
 },
 "nbformat": 4,
 "nbformat_minor": 5
}
